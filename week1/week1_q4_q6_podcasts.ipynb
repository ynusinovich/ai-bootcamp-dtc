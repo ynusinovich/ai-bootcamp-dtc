{
 "cells": [
  {
   "cell_type": "markdown",
   "metadata": {},
   "source": [
    "# Week 1 — Q4–Q6 (Podcasts ingestion + chunking + search)\n",
    "\n",
    "This notebook fetches DataTalks.Club podcasts, chunks paragraphs, indexes with **minsearch**, and answers a query."
   ]
  },
  {
   "cell_type": "code",
   "execution_count": 118,
   "metadata": {},
   "outputs": [],
   "source": [
    "import os, io, json, requests, traceback\n",
    "from typing import Iterable, Callable, Dict, Any, List\n",
    "from dataclasses import dataclass\n",
    "import frontmatter\n",
    "import sys\n",
    "import re\n",
    "import math\n",
    "\n",
    "# Add the parent directory ('..') to the system path\n",
    "sys.path.append(os.path.abspath('..'))\n",
    "\n",
    "from minsearch import Index\n",
    "\n",
    "from ai_data_pipelines.github_docs.github import GithubRepositoryDataReader\n",
    "from ai_data_pipelines.common.chunking import sliding_window, chunk_documents"
   ]
  },
  {
   "cell_type": "markdown",
   "metadata": {},
   "source": [
    "## Q4 — Download the podcast data and count records"
   ]
  },
  {
   "cell_type": "code",
   "execution_count": 119,
   "id": "9ff4c439",
   "metadata": {},
   "outputs": [],
   "source": [
    "@dataclass\n",
    "class RawFile:\n",
    "    filename: str\n",
    "    content: str"
   ]
  },
  {
   "cell_type": "code",
   "execution_count": 120,
   "id": "54bce1e3",
   "metadata": {},
   "outputs": [],
   "source": [
    "reader = GithubRepositoryDataReader(\n",
    "    repo_owner=\"DataTalksClub\",\n",
    "    repo_name=\"datatalksclub.github.io\",\n",
    "    allowed_extensions={\"md\", \"mdx\"},\n",
    "    filename_filter=lambda p: p.startswith(\"_podcast/\") and not p.endswith(\"_template.md\")\n",
    ")\n",
    "raw = reader.read()\n",
    "raw_docs = [RawFile(filename=f.filename, content=f.content) for f in raw]"
   ]
  },
  {
   "cell_type": "code",
   "execution_count": 121,
   "metadata": {},
   "outputs": [
    {
     "data": {
      "text/plain": [
       "184"
      ]
     },
     "execution_count": 121,
     "metadata": {},
     "output_type": "execute_result"
    }
   ],
   "source": [
    "def parse_frontmatter(raw_docs):\n",
    "    parsed = []\n",
    "    for rf in raw_docs:\n",
    "        try:\n",
    "            post = frontmatter.loads(rf.content)\n",
    "            d = post.to_dict()\n",
    "            d[\"filename\"] = rf.filename\n",
    "            parsed.append(d)\n",
    "        except Exception as e:\n",
    "            print(e)\n",
    "            print(rf)\n",
    "            pass\n",
    "    return parsed\n",
    "\n",
    "docs = parse_frontmatter(raw_docs)\n",
    "len(docs)"
   ]
  },
  {
   "cell_type": "markdown",
   "metadata": {},
   "source": [
    "## Q5 — Chunk by paragraphs (size=30, overlap=15) and count chunks"
   ]
  },
  {
   "cell_type": "code",
   "execution_count": 122,
   "metadata": {},
   "outputs": [
    {
     "name": "stdout",
     "output_type": "stream",
     "text": [
      "Docs prepared: 184 (skipped templates: 0)\n",
      "Total paragraphs: 27268\n",
      "Q5: number of chunks: 1741\n",
      "Avg windows per episode: 9.46\n"
     ]
    }
   ],
   "source": [
    "# Q5 — chunk by transcript paragraphs (size=30, overlap=15 -> step=15)\n",
    "\n",
    "def _split_body_content(body: str) -> list[str]:\n",
    "    \"\"\"\n",
    "    Split markdown body into 'paragraphs' with emphasis on bullet lists.\n",
    "    - Prefer bullets starting with '*' or '-' at the beginning of a line.\n",
    "    - Clean trailing attribute blocks like {:target=\"_blank\"}.\n",
    "    - Fallback to blank-line paragraphs if no bullets found.\n",
    "    \"\"\"\n",
    "    if not body:\n",
    "        return []\n",
    "\n",
    "    # Remove a standalone \"Links:\" line (common in these docs)\n",
    "    body = re.sub(r'(?im)^\\s*links:\\s*$', '', body).strip()\n",
    "\n",
    "    # Extract bullets: lines beginning with * or -\n",
    "    bullets = re.findall(r'^\\s*[\\-\\*]\\s+(.*\\S.*)$', body, flags=re.M)\n",
    "    if bullets:\n",
    "        clean = [re.sub(r'\\{\\:.*?\\}', '', b).strip() for b in bullets]\n",
    "        return [c for c in clean if c]\n",
    "\n",
    "    # Fallback: split by blank lines\n",
    "    parts = [p.strip() for p in re.split(r'\\n\\s*\\n', body) if p.strip()]\n",
    "    return parts\n",
    "\n",
    "def _extract_paragraphs_from_doc(d: dict) -> list[str]:\n",
    "    paras = []\n",
    "\n",
    "    # 1) Transcript lines/headers as paragraphs\n",
    "    tr = d.get(\"transcript\")\n",
    "    if isinstance(tr, list):\n",
    "        for entry in tr:\n",
    "            if isinstance(entry, dict):\n",
    "                if entry.get(\"line\"):\n",
    "                    paras.append(str(entry[\"line\"]).strip())\n",
    "                elif entry.get(\"header\"):\n",
    "                    paras.append(str(entry[\"header\"]).strip())\n",
    "            elif isinstance(entry, str) and entry.strip():\n",
    "                paras.append(entry.strip())\n",
    "\n",
    "    # 2) Plus any body links/paragraphs in 'content'\n",
    "    body = d.get(\"content\") or \"\"\n",
    "    paras.extend(_split_body_content(body))\n",
    "\n",
    "    return paras\n",
    "\n",
    "# Prepare docs for chunking: put the paragraph LIST into the 'content' field\n",
    "docs_for_chunking = []\n",
    "skipped = 0\n",
    "for d in docs:\n",
    "    fn = d.get(\"filename\",\"\")\n",
    "    paras = _extract_paragraphs_from_doc(d)\n",
    "    docs_for_chunking.append({**d, \"content\": paras})\n",
    "\n",
    "print(f\"Docs prepared: {len(docs_for_chunking)} (skipped templates: {skipped})\")\n",
    "print(\"Total paragraphs:\", sum(len(d[\"content\"]) for d in docs_for_chunking))\n",
    "\n",
    "# size=30, overlap=15 -> step=15\n",
    "chunks = chunk_documents(\n",
    "    documents=docs_for_chunking,\n",
    "    size=30,\n",
    "    step=15,\n",
    "    content_field_name=\"content\"  # this is our paragraph list\n",
    ")\n",
    "\n",
    "# chunk_documents returns windows where 'content' is the list slice; join for indexing\n",
    "for c in chunks:\n",
    "    if isinstance(c.get(\"content\"), list):\n",
    "        c[\"content\"] = \"\\n\\n\".join(c[\"content\"])\n",
    "    if \"para_start\" not in c:\n",
    "        c[\"para_start\"] = c.get(\"start\", \"\")\n",
    "\n",
    "print(f\"Q5: number of chunks: {len(chunks)}\")\n",
    "\n",
    "# Sanity: average windows per episode, a few samples\n",
    "avg = len(chunks) / max(1, len(docs_for_chunking))\n",
    "print(\"Avg windows per episode:\", round(avg, 2))\n"
   ]
  },
  {
   "cell_type": "markdown",
   "metadata": {},
   "source": [
    "## Q6 — Index with minsearch and query"
   ]
  },
  {
   "cell_type": "code",
   "execution_count": 127,
   "metadata": {},
   "outputs": [
    {
     "name": "stdout",
     "output_type": "stream",
     "text": [
      "Top 20:\n",
      "1. 'Freelancing and Consulting with Data Engineering' — _podcast/s09e04-freelancing-and-consulting-with-data-engineering.md (para_start=135)\n",
      "2. 'Freelancing and Consulting with Data Engineering' — _podcast/s09e04-freelancing-and-consulting-with-data-engineering.md (para_start=150)\n",
      "3. 'Freelancing and Consulting with Data Engineering' — _podcast/s09e04-freelancing-and-consulting-with-data-engineering.md (para_start=0)\n",
      "4. 'Freelancing and Consulting with Data Engineering' — _podcast/s09e04-freelancing-and-consulting-with-data-engineering.md (para_start=75)\n",
      "5. 'Freelancing and Consulting with Data Engineering' — _podcast/s09e04-freelancing-and-consulting-with-data-engineering.md (para_start=30)\n",
      "6. 'Freelancing and Consulting with Data Engineering' — _podcast/s09e04-freelancing-and-consulting-with-data-engineering.md (para_start=45)\n",
      "7. 'Freelancing and Consulting with Data Engineering' — _podcast/s09e04-freelancing-and-consulting-with-data-engineering.md (para_start=90)\n",
      "8. 'Freelancing and Consulting with Data Engineering' — _podcast/s09e04-freelancing-and-consulting-with-data-engineering.md (para_start=15)\n",
      "9. 'Freelancing and Consulting with Data Engineering' — _podcast/s09e04-freelancing-and-consulting-with-data-engineering.md (para_start=120)\n",
      "10. 'Freelancing and Consulting with Data Engineering' — _podcast/s09e04-freelancing-and-consulting-with-data-engineering.md (para_start=165)\n",
      "11. 'Freelancing and Consulting with Data Engineering' — _podcast/s09e04-freelancing-and-consulting-with-data-engineering.md (para_start=60)\n",
      "12. 'Freelancing and Consulting with Data Engineering' — _podcast/s09e04-freelancing-and-consulting-with-data-engineering.md (para_start=195)\n",
      "13. 'Freelancing and Consulting with Data Engineering' — _podcast/s09e04-freelancing-and-consulting-with-data-engineering.md (para_start=180)\n",
      "14. 'Freelancing and Consulting with Data Engineering' — _podcast/s09e04-freelancing-and-consulting-with-data-engineering.md (para_start=105)\n",
      "15. 'The Entrepreneurship Journey: From Freelancing to Starting a Company' — _podcast/s17e01-entrepreneurship-journey-from-freelancing-to-starting-company.md (para_start=0)\n",
      "16. 'The Entrepreneurship Journey: From Freelancing to Starting a Company' — _podcast/s17e01-entrepreneurship-journey-from-freelancing-to-starting-company.md (para_start=45)\n",
      "17. 'The Entrepreneurship Journey: From Freelancing to Starting a Company' — _podcast/s17e01-entrepreneurship-journey-from-freelancing-to-starting-company.md (para_start=60)\n",
      "18. 'The Entrepreneurship Journey: From Freelancing to Starting a Company' — _podcast/s17e01-entrepreneurship-journey-from-freelancing-to-starting-company.md (para_start=15)\n",
      "19. 'New Roles and Key Skills to Monetize Machine Learning' — _podcast/s02e09-roles-skills-monetizing-ml.md (para_start=15)\n",
      "20. 'The Entrepreneurship Journey: From Freelancing to Starting a Company' — _podcast/s17e01-entrepreneurship-journey-from-freelancing-to-starting-company.md (para_start=30)\n",
      "\n",
      "Q6: first episode in results: Freelancing and Consulting with Data Engineering ( _podcast/s09e04-freelancing-and-consulting-with-data-engineering.md )\n"
     ]
    }
   ],
   "source": [
    "index = Index(text_fields=[\"content\", \"title\"])\n",
    "index.fit(chunks)\n",
    "\n",
    "q = \"how do I make money with AI?\"\n",
    "q = \" \".join([\n",
    "    q,\n",
    "    \"monetize revenue business entrepreneurship freelancing consulting\"\n",
    "])\n",
    "hits = index.search(query=q, num_results=20)\n",
    "\n",
    "print(\"Top 20:\")\n",
    "for i, h in enumerate(hits[:20], 1):\n",
    "    print(f\"{i}. {h.get('title')!r} — {h.get('filename')} (para_start={h.get('para_start')})\")\n",
    "\n",
    "first = hits[0] if hits else {}\n",
    "print(\"\\nQ6: first episode in results:\", first.get(\"title\", \"<no title>\"), \"(\", first.get(\"filename\"), \")\")\n"
   ]
  },
  {
   "cell_type": "code",
   "execution_count": 128,
   "id": "f49e9df1",
   "metadata": {},
   "outputs": [
    {
     "name": "stdout",
     "output_type": "stream",
     "text": [
      "Yeah, open source chatbot company. Essentially, you don't know what you will find in the subject because it depends on implementation. Even the schema is not really fixed. So we needed a way to manage a very volatile schema, but also be able to freeze it if we wanted to.\n",
      "\n",
      "Going from freelancing to making your own product (and other investments)\n",
      "\n",
      "I heard that many people want to go to consulting, to freelancing, but they don't want to do it forever. Because here, you exchange time for money, but at some point, maybe you just want to get money without spending time. [chuckles] Is this usually what freelancers do at the end? They see a problem that is repeated many times, so they end up packaging it as a product and then sell it as a product?\n",
      "\n",
      "Some people, yes – because they get bored. But each person has their own ambitions and approaches. Some people simply go three days a week and enjoy a richer life. Other people start companies, other people don't care, and just work like that. Other people put all their money in Bitcoin and cash out enough to retire. No joke. One of my mentees in freelancing did that. Yeah, every person has their own dreams and ambitions.\n",
      "\n",
      "When did he invest in Bitcoin? Like in 2012?\n",
      "\n",
      "I don't really want to talk about his finances, but he took it when he was a freelancer and I think he invested in January before last year. [cross-talk]\n",
      "\n",
      "It was already expensive then, right?\n",
      "\n",
      "Yeah, so I think he went like 3 or 5X or something and he cashed it out in Portugal, where he didn't have to pay tax. So he moved smart. As a freelancer you can do that.\n",
      "\n",
      "The usefulness of a portfolio\n",
      "\n",
      "[chuckles] Okay, thanks. We have a bunch of other questions. Would you recommend building a portfolio to showcase your skill and for reaching out to new customers?\n",
      "\n",
      "I recommend building a portfolio of products you can reuse, and basically do it again for other customers. That's going to be efficient. Because in my experience, if customers like you and you tell them that you can do it, then they will give you a shot. [cross-talk]\n",
      "\n",
      "This tool that you're developing is one of such things, right? If somebody has a problem, then you can say, “Hey, you know what? I actually have a solution for you. Let's give it a try. This is the solution. I can implement it for you, if you want.” And typically, they will agree. Right?\n",
      "\n",
      "Exactly. For example, this tool that I'm talking about for data loading – I'm personally using it to create really good pipelines. But it's also usable by someone that doesn't want to create really good pipelines, but just wants to throw some stuff in a database. If a client wants it done commercial-grade, and with a nice DBT package on top of that, it has iterative [cross-talk].\n",
      "\n",
      "It’s cross-database compatible and all the nice stuff with rebuilding states, having a nice schema. For example, for us, we even inject templates into my database through the API. So yeah, if you want something like that, of course, it's not open source anymore. [chuckles] [cross-talk]\n",
      "\n",
      "But still, you want to show them that you can solve their problems as quickly as possible, right?\n",
      "\n",
      "Yeah.\n",
      "\n",
      "Okay. But I guess a portfolio is a good start anyways, right? If you don't have a portfolio of reusable things, a portfolio with projects you solved is already good enough.\n",
      "\n",
      "The question is “Who are you talking to? I think if you go through agencies like Hayes, then you will probably be talking to a technical person that is hiring you – then maybe a portfolio is useful. If you are talking directly to your clients, then chances are that those might be business people or people that already know you, and then they won't care about your portfolio. Personally, I talk to the second type of people.\n",
      "\n",
      "Introverts in freelancing\n",
      "\n",
      "Okay. Got it. There’s another question, “Is freelancing better suited for extroverts or can introverts also do this?”\n",
      "\n",
      "I'm an introvert, so I would say if you're an extrovert – that is a nice bonus. What you need to do is just not get in your own way. Ultimately, you're the only person who can stop you.\n",
      "\n",
      "Is it possible to work for 3 months a year in freelancing?\n",
      "\n",
      "When we were talking about exchanging time for money, you said that not everyone wants the same thing. Some people want to work less. Is it feasible to, let's say, work for three months per year or is it too little? Is it even possible? Are there companies who are interested in this kind of stuff? [cross-talk]\n",
      "\n",
      "I would say that I've had projects that I could run either between one and three days a week, or one and four – four days is already considered full time. Some projects might run a week, if it's just a small project helping someone with something. It might run for a year… Ultimately, you can also say you've had enough after three months, or you can keep going until it’s over.\n",
      "\n",
      "But would it be enough money, income-wise, if I just worked three months per year? Or probably not?\n",
      "\n",
      "If you’re working three months per year and only taking the projects that are paying you a decent enough rate – so let's say 120 multiplied by eight, that's like 1000 per day, multiplied by 60 for three months. So I would say 60k. If you live in Germany, you probably have to pay about a third of that as taxes, subtract health insurance, or about 10k. But that's the max if you earn 55k. You're left with I think 30,000, which is actually very comfortable.\n",
      "\n",
      "Outside of Berlin, right? If you live in Berlin, then you spend most of the money on rent.\n",
      "\n",
      "I bought my apartment almost eight years ago, so I'm not entirely sure.\n",
      "\n",
      "Choosing projects and skill-building strategy (focusing on interests)\n",
      "\n",
      "[laughs] Oh, okay. You’re lucky. You said that now you're not actively looking for new projects. But at some point, you were looking for new projects and you said you always wanted to leave some room for learning. In this case, do you have a strategy between deciding which project to take and which skills to learn next?\n"
     ]
    }
   ],
   "source": [
    "print(hits[0][\"content\"])"
   ]
  },
  {
   "cell_type": "code",
   "execution_count": null,
   "id": "8764ddcc",
   "metadata": {},
   "outputs": [],
   "source": []
  }
 ],
 "metadata": {
  "kernelspec": {
   "display_name": "ai-bootcamp",
   "language": "python",
   "name": "python3"
  },
  "language_info": {
   "codemirror_mode": {
    "name": "ipython",
    "version": 3
   },
   "file_extension": ".py",
   "mimetype": "text/x-python",
   "name": "python",
   "nbconvert_exporter": "python",
   "pygments_lexer": "ipython3",
   "version": "3.11.14"
  }
 },
 "nbformat": 4,
 "nbformat_minor": 5
}
